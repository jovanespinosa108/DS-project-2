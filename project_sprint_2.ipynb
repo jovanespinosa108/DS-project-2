{
 "cells": [
  {
   "cell_type": "markdown",
   "metadata": {},
   "source": [
    "Todavía desempeñándote como miembro del equipo analítico, en el primer proyecto hemos sentado las bases para la segunda fase. ¡Hemos llegado! Ahora aplicarás técnicas avanzadas para extraer datos significativos, atendiendo a las crecientes necesidades del cliente.\n",
    "\n",
    "Como sabes, las empresas recopilan y almacenan datos de una forma particular. Store 1 quiere almacenar toda la información de sus clientes en una tabla.\n",
    "\n",
    "user_id\tuser_name\tuser_age\tpurchase_category\tspending_per_category\n",
    "'32415'\t'mike', 'reed'\t32\t'electronics', 'sport', 'books'\t894, 213, 173\n",
    "'31980'\t'kate', 'morgan'\t24\t'clothes', 'shoes'\t439, 390\n",
    "En términos técnicos, una tabla es simplemente una lista anidada que contiene una sublista para cada usuario o usuaria.\n",
    "\n",
    "Store 1 ha creado una tabla de este tipo para sus usuarios. Está almacenada en la variable \"users\". Cada sublista contiene el ID del usuario, nombre y apellido, edad, categorías favoritas y el importe gastado en cada categoría.\n",
    "\n",
    "user_id: el identificador único para cada usuario.\n",
    "user_name: el nombre de usuario.\n",
    "user_age: la edad del usuario.\n",
    "fav_categories: las categorías de artículos comprados por el usuario, como 'ELECTRONICS', 'SPORT', 'BOOKS', etc.\n",
    "total_spendings: la lista de enteros que indican la cantidad gastada en cada una de sus categorías favoritas."
   ]
  },
  {
   "cell_type": "code",
   "execution_count": 1,
   "metadata": {},
   "outputs": [],
   "source": [
    "users = [\n",
    "    ['32415', ' mike_reed ', 32.0, ['ELECTRONICS', 'SPORT', 'BOOKS'], [894, 213, 173]],\n",
    "    ['31980', 'kate morgan', 24.0, ['CLOTHES', 'BOOKS'], [439, 390]],\n",
    "    ['32156', ' john doe ', 37.0, ['ELECTRONICS', 'HOME', 'FOOD'], [459, 120, 99]],\n",
    "    ['32761', 'SAMANTHA SMITH', 29.0, ['CLOTHES', 'ELECTRONICS', 'BEAUTY'], [299, 679, 85]],\n",
    "    ['32984', 'David White', 41.0, ['BOOKS', 'HOME', 'SPORT'], [234, 329, 243]],\n",
    "    ['33001', 'emily brown', 26.0, ['BEAUTY', 'HOME', 'FOOD'], [213, 659, 79]],\n",
    "    ['33767', ' Maria Garcia', 33.0, ['CLOTHES', 'FOOD', 'BEAUTY'], [499, 189, 63]],\n",
    "    ['33912', 'JOSE MARTINEZ', 22.0, ['SPORT', 'ELECTRONICS', 'HOME'], [259, 549, 109]],\n",
    "    ['34009', 'lisa wilson ', 35.0, ['HOME', 'BOOKS', 'CLOTHES'], [329, 189, 329]],\n",
    "    ['34278', 'James Lee', 28.0, ['BEAUTY', 'CLOTHES', 'ELECTRONICS'], [189, 299, 579]],\n",
    "]"
   ]
  },
  {
   "cell_type": "markdown",
   "metadata": {},
   "source": [
    "Paso 1\n",
    "\n",
    "En la última tarea de la primera parte de este proyecto escribiste código para:\n",
    "\n",
    "Eliminar todos los espacios iniciales y finales de los nombres, así como cualquier guion bajo.\n",
    "Convertir todas las edades en números enteros.\n",
    "Separar todos los nombres y apellidos en una sublista.\n",
    "Hagámoslo ahora una función para que podamos usarla para fijar a cualquier cliente. Nombra a tu función clean_user. Debe recibir una lista con toda la información del cliente (user_info), así como dos enteros. Uno de ellos señala el índice del nombre del cliente y el otro es el índice de la edad del cliente en la lista. Debe devolver la lista limpia después de aplicar todos los cambios anteriores. Pruébala llamándola, pasándole la lista test_user[] y luego muéstrala en pantalla."
   ]
  },
  {
   "cell_type": "code",
   "execution_count": 1,
   "metadata": {},
   "outputs": [
    {
     "name": "stdout",
     "output_type": "stream",
     "text": [
      "['32415', ['mike', 'reed'], 32, ['ELECTRONICS', 'SPORT', 'BOOKS'], [894, 213, 173]]\n"
     ]
    }
   ],
   "source": [
    "# define tu función aquí\n",
    "def clean_user(user_info, name_index, age_index):\n",
    "    # Paso 1: elimina del nombre espacios iniciales y finales, así como guiones\n",
    "    user_name_1 = user_info[name_index].strip().replace(\"_\", \" \")\n",
    "\n",
    "    # Paso 2: convierte la edad en entero\n",
    "    user_age_1 = int(user_info[age_index])\n",
    "\n",
    "    # Paso 3: separa el nombre y el apellido en una sublista\n",
    "    user_name_1 = user_name_1.split()\n",
    "\n",
    "    # Prepara la lista con la información completa del usuario\n",
    "    # Reemplaza el nombre y la edad originales con los datos limpios\n",
    "    user_info[name_index] = user_name_1\n",
    "    user_info[age_index] = user_age_1\n",
    "\n",
    "    return user_info\n",
    "\n",
    "# Prueba la función\n",
    "test_user = ['32415', ' mike_reed ', 32.0, ['ELECTRONICS', 'SPORT', 'BOOKS'], [894, 213, 173]]\n",
    "name_index = 1\n",
    "age_index = 2\n",
    "\n",
    "print(clean_user(test_user, name_index, age_index))# completa aquí el llamado de la función\n",
    "\n",
    "#['32415', ['mike', 'reed'], 32, ['ELECTRONICS', 'SPORT', 'BOOKS'], [894, 213, 173]]"
   ]
  },
  {
   "cell_type": "markdown",
   "metadata": {},
   "source": [
    "****Pista****\n",
    "\n",
    "Para implementar la función clean_user, efectúa los siguientes pasos:\n",
    "\n",
    "-Recortar y reemplazar: utiliza strip() para eliminar espacios iniciales y finales del nombre del usuario y replace('_', ' ') para eliminar guiones bajos con espacios.\n",
    "\n",
    "-Convertir la edad: convierte la edad en entero utilizando la función int().\n",
    "\n",
    "-Separar el nombre: utiliza el método split() para separar el nombre y el apellido, creando una sublista.\n",
    "\n",
    "Asegúrate de modificar la lista user_info que aparece actualizando el nombre y la edad con los datos limpios antes de devolver la lista. Prueba tu función con un usuario de ejemplo para verificar que funciona correctamente.\n",
    "\n",
    "\n",
    "Paso 2\n",
    "\n",
    "Observa que todas las categorías favoritas están almacenadas en mayúsculas. Llena una nueva lista llamada fav_categories_low con las mismas categorías, pero en minúsculas, iterando sobre los valores en la lista fav_categories, modificándolos y luego añade los nuevos valores a la lista fav_categories_low. Como siempre, muestra el resultado final."
   ]
  },
  {
   "cell_type": "code",
   "execution_count": 2,
   "metadata": {},
   "outputs": [
    {
     "name": "stdout",
     "output_type": "stream",
     "text": [
      "['electronics', 'sport', 'books']\n"
     ]
    }
   ],
   "source": [
    "fav_categories = ['ELECTRONICS', 'SPORT', 'BOOKS']\n",
    "fav_categories_low = []\n",
    "\n",
    "# escribe tu código aquí\n",
    "for item in fav_categories:\n",
    "    fav_categories_low.append(item.lower())\n",
    "print(fav_categories_low)\n",
    "\n",
    "# out ['electronics', 'sport', 'books']"
   ]
  },
  {
   "cell_type": "markdown",
   "metadata": {},
   "source": [
    "****Pista****\n",
    "\n",
    "Crea un bucle for que itere sobre la lista fav_categories. Utiliza el método lower() para transformar cada categoría a minúsculas. Luego, utiliza el método append() para agregar los valores actualizados a la lista fav_categories_low.\n",
    "\n",
    "Paso 3\n",
    "\n",
    "Ahora hagamos lo mismo, pero para cada uno de los usuarios de la empresa. Llena una lista nueva llamada users_categories_low con los mismos usuarios, pero con sus categorías en minúsculas, iterando sobre los valores en la lista users, luego itera sobre los valores en user_categories, modificándolos, y después agrega los nuevos valores de usuarios a la lista users_categories_low. Como siempre, muestra el resultado final. "
   ]
  },
  {
   "cell_type": "code",
   "execution_count": 3,
   "metadata": {},
   "outputs": [
    {
     "name": "stdout",
     "output_type": "stream",
     "text": [
      "[['32415', ' mike_reed ', 32.0, ['electronics', 'sport', 'books'], [894, 213, 173]], ['31980', 'kate morgan', 24.0, ['clothes', 'books'], [439, 390]], ['32156', ' john doe ', 37.0, ['electronics', 'home', 'food'], [459, 120, 99]], ['32761', 'SAMANTHA SMITH', 29.0, ['clothes', 'electronics', 'beauty'], [299, 679, 85]], ['32984', 'David White', 41.0, ['books', 'home', 'sport'], [234, 329, 243]], ['33001', 'emily brown', 26.0, ['beauty', 'home', 'food'], [213, 659, 79]], ['33767', ' Maria Garcia', 33.0, ['clothes', 'food', 'beauty'], [499, 189, 63]], ['33912', 'JOSE MARTINEZ', 22.0, ['sport', 'electronics', 'home'], [259, 549, 109]], ['34009', 'lisa wilson ', 35.0, ['home', 'books', 'clothes'], [329, 189, 329]], ['34278', 'James Lee', 28.0, ['beauty', 'clothes', 'electronics'], [189, 299, 579]]]\n"
     ]
    }
   ],
   "source": [
    "users = [\n",
    "    ['32415', ' mike_reed ', 32.0, ['ELECTRONICS', 'SPORT', 'BOOKS'], [894, 213, 173]],\n",
    "    ['31980', 'kate morgan', 24.0, ['CLOTHES', 'BOOKS'], [439, 390]],\n",
    "    ['32156', ' john doe ', 37.0, ['ELECTRONICS', 'HOME', 'FOOD'], [459, 120, 99]],\n",
    "    ['32761', 'SAMANTHA SMITH', 29.0, ['CLOTHES', 'ELECTRONICS', 'BEAUTY'], [299, 679, 85]],\n",
    "    ['32984', 'David White', 41.0, ['BOOKS', 'HOME', 'SPORT'], [234, 329, 243]],\n",
    "    ['33001', 'emily brown', 26.0, ['BEAUTY', 'HOME', 'FOOD'], [213, 659, 79]],\n",
    "    ['33767', ' Maria Garcia', 33.0, ['CLOTHES', 'FOOD', 'BEAUTY'], [499, 189, 63]],\n",
    "    ['33912', 'JOSE MARTINEZ', 22.0, ['SPORT', 'ELECTRONICS', 'HOME'], [259, 549, 109]],\n",
    "    ['34009', 'lisa wilson ', 35.0, ['HOME', 'BOOKS', 'CLOTHES'], [329, 189, 329]],\n",
    "    ['34278', 'James Lee', 28.0, ['BEAUTY', 'CLOTHES', 'ELECTRONICS'], [189, 299, 579]],\n",
    "]\n",
    "\n",
    "users_categories_low = []\n",
    "\n",
    "for user in users:\n",
    "    categories_low = []\n",
    "    for category in user[3]:\n",
    "        lowered_category = category.lower()\n",
    "        categories_low.append(lowered_category)\n",
    "    \n",
    "    user.pop(3)\n",
    "    user.insert(3, categories_low)\n",
    "    users_categories_low.append(user)\n",
    "\n",
    "print(users_categories_low)"
   ]
  },
  {
   "cell_type": "markdown",
   "metadata": {},
   "source": [
    "****Pista****\n",
    "\n",
    "Crea un bucle for que itere sobre la lista users. Luego crea otro bucle for que itere sobre las categorías de usuarios para acceder al usuario y modificarlo. Utiliza el método lower() para transformar cada categoría a minúsculas. Luego, modifica al usuario eliminando la lista de categorías anteriores con pop() y con insert() inserta la nueva en su lugar. A continuación utiliza el método append() para agregar a los usuarios actualizados a la lista users_categories_low.\n",
    "\n",
    "Paso 4\n",
    "Ahora, completemos el código de nuestra función clean_user para limpiar la categoría:\n",
    "\n",
    "Añade otro parámetro con el índice de categorías.\n",
    "Pon todos los nombres en minúsculas antes de aplicar \"strip\" y \"replace\".\n",
    "Después, crea un bucle y aplica tu función a toda la lista de usuarios, agregando tus resultados a la lista users_clean. Después muéstralo"
   ]
  },
  {
   "cell_type": "code",
   "execution_count": 4,
   "metadata": {},
   "outputs": [
    {
     "name": "stdout",
     "output_type": "stream",
     "text": [
      "[['32415', ['mike_reed'], 32, ['electronics', 'sport', 'books'], [894, 213, 173]], ['31980', ['kate', 'morgan'], 24, ['clothes', 'books'], [439, 390]], ['32156', ['john', 'doe'], 37, ['electronics', 'home', 'food'], [459, 120, 99]], ['32761', ['samantha', 'smith'], 29, ['clothes', 'electronics', 'beauty'], [299, 679, 85]], ['32984', ['david', 'white'], 41, ['books', 'home', 'sport'], [234, 329, 243]], ['33001', ['emily', 'brown'], 26, ['beauty', 'home', 'food'], [213, 659, 79]], ['33767', ['maria', 'garcia'], 33, ['clothes', 'food', 'beauty'], [499, 189, 63]], ['33912', ['jose', 'martinez'], 22, ['sport', 'electronics', 'home'], [259, 549, 109]], ['34009', ['lisa', 'wilson'], 35, ['home', 'books', 'clothes'], [329, 189, 329]], ['34278', ['james', 'lee'], 28, ['beauty', 'clothes', 'electronics'], [189, 299, 579]]]\n"
     ]
    }
   ],
   "source": [
    "def clean_user(user_info, name_index, age_index, cat_index):\n",
    "    # Paso 1: pon todo en minúsculas y elimina del nombre espacios iniciales y finales, así como guiones\n",
    "    user_name_1 = user_info[name_index].lower().strip().replace('-', ' ')\n",
    "    \n",
    "    # Paso 2: convierte la edad en entero\n",
    "    user_age_1 = int(user_info[age_index])\n",
    "    \n",
    "    # Paso 3: separa el nombre y el apellido en una sublista\n",
    "    user_name_1 = user_name_1.split()\n",
    "    \n",
    "    # Paso 4: procesar las categorías, poniéndolas en minúsculas\n",
    "    categories_low = []\n",
    "    for category in user[cat_index]:\n",
    "        categories_low.append(category.lower())\n",
    "    \n",
    "    # Prepara la lista con la información completa del usuario\n",
    "        user_info[name_index] = user_name_1  # actualiza el nombre\n",
    "        user_info[age_index] = user_age_1  # actualiza la edad\n",
    "        user_info[cat_index] = categories_low  # actualiza las categorías\n",
    "    \n",
    "    return user_info\n",
    "\n",
    "# Lista de usuarios original\n",
    "users = [\n",
    "    ['32415', ' mike_reed ', 32.0, ['ELECTRONICS', 'SPORT', 'BOOKS'], [894, 213, 173]],\n",
    "    ['31980', 'kate morgan', 24.0, ['CLOTHES', 'BOOKS'], [439, 390]],\n",
    "    ['32156', ' john doe ', 37.0, ['ELECTRONICS', 'HOME', 'FOOD'], [459, 120, 99]],\n",
    "    ['32761', 'SAMANTHA SMITH', 29.0, ['CLOTHES', 'ELECTRONICS', 'BEAUTY'], [299, 679, 85]],\n",
    "    ['32984', 'David White', 41.0, ['BOOKS', 'HOME', 'SPORT'], [234, 329, 243]],\n",
    "    ['33001', 'emily brown', 26.0, ['BEAUTY', 'HOME', 'FOOD'], [213, 659, 79]],\n",
    "    ['33767', ' Maria Garcia', 33.0, ['CLOTHES', 'FOOD', 'BEAUTY'], [499, 189, 63]],\n",
    "    ['33912', 'JOSE MARTINEZ', 22.0, ['SPORT', 'ELECTRONICS', 'HOME'], [259, 549, 109]],\n",
    "    ['34009', 'lisa wilson ', 35.0, ['HOME', 'BOOKS', 'CLOTHES'], [329, 189, 329]],\n",
    "    ['34278', 'James Lee', 28.0, ['BEAUTY', 'CLOTHES', 'ELECTRONICS'], [189, 299, 579]],\n",
    "]\n",
    "\n",
    "# Índices de nombre, edad y categorías\n",
    "name_index = 1\n",
    "age_index = 2\n",
    "cat_index = 3\n",
    "\n",
    "# Lista para almacenar los usuarios limpios\n",
    "users_cleaned = []\n",
    "\n",
    "# Procesa cada usuario y agrega el resultado a la lista de usuarios limpios\n",
    "for user in users:\n",
    "    user_cleaned = clean_user(user, name_index, age_index, cat_index)\n",
    "    users_cleaned.append(user_cleaned)\n",
    "\n",
    "# Muestra la lista de usuarios limpios\n",
    "print(users_cleaned)"
   ]
  },
  {
   "cell_type": "markdown",
   "metadata": {},
   "source": [
    "****Pista****\n",
    "\n",
    "Efectúa los siguientes pasos para implementar la función clean_user:\n",
    "\n",
    "Copia y adapta: copia el código de tu función anterior clean_user.\n",
    "\n",
    "Pon el nombre en minúsculas: antes de aplicar split() y replace(), aplica lower() al nombre del cliente.\n",
    "\n",
    "Procesa las categorías: agrega una sección nueva para gestionar las categorías. Pon cada categoría de la lista en minúsculas y almacénalas en una nueva lista.\n",
    "\n",
    "Ejecuta tu código: asegúrate de que la función clean_user actualice la lista user_info con el nombre, edad y categorías limpias. Haz un bucle en la lista users y llama a la función clean_user, pasando el usuario, name_index, age_index y cat_index para especificar los índices correctos para el nombre, la edad y las categorías, respectivamente.\n",
    "\n",
    "Guarda cada nuevo usuario limpio en la lista nueva users_cleaned.\n",
    "\n",
    "Muestra en pantalla la lista users_cleaned para asegurarte de que tu código realiza las respectivas transformaciones.\n",
    "\n",
    "Paso 5\n",
    "\n",
    "La empresa desea conocer sus ingresos totales y te pide que proporciones este valor. Para calcular los ingresos de la empresa, sigue estos pasos:\n",
    "\n",
    "Utiliza for para iterar sobre la lista users.\n",
    "Extrae la lista de gastos de cada usuario y suma los valores.\n",
    "Actualiza el valor de los ingresos con el total de cada usuario.\n",
    "Así obtendrás los ingresos totales de la empresa que mostrarás en la pantalla al final."
   ]
  },
  {
   "cell_type": "code",
   "execution_count": 5,
   "metadata": {},
   "outputs": [
    {
     "name": "stdout",
     "output_type": "stream",
     "text": [
      "9189\n"
     ]
    }
   ],
   "source": [
    "#Objetivo: Calcular los ingresos totales de la empresa sumando los gastos de cada usuario.\n",
    "#Iteración: Usas un bucle for para recorrer la lista users.\n",
    "#Extracción de datos: Extraes la lista de gastos de cada usuario mediante la indexación user[4].\n",
    "#Cálculo de la suma: Usas la función sum() para calcular la suma de los gastos de cada usuario.\n",
    "#Actualización de la variable revenue: Se pretende añadir la suma de los gastos de cada usuario a revenue.\n",
    "\n",
    "users = [['32415', ['mike', 'reed'], 32, ['electronics', 'sport', 'books'], [894, 213, 173]],\n",
    "         ['31980', ['kate', 'morgan'], 24, ['clothes', 'books'], [439, 390]],\n",
    "         ['32156', ['john', 'doe'], 37, ['electronics', 'home', 'food'], [459, 120, 99]],\n",
    "         ['32761', ['samantha', 'smith'], 29, ['clothes', 'electronics', 'beauty'], [299, 679, 85]],\n",
    "         ['32984', ['david', 'white'], 41, ['books', 'home', 'sport'], [234, 329, 243]],\n",
    "         ['33001', ['emily', 'brown'], 26, ['beauty', 'home', 'food'], [213, 659, 79]],\n",
    "         ['33767', ['maria', 'garcia'], 33, ['clothes', 'food', 'beauty'], [499, 189, 63]],\n",
    "         ['33912', ['jose', 'martinez'], 22, ['sport', 'electronics', 'home'], [259, 549, 109]],\n",
    "         ['34009', ['lisa', 'wilson'], 35, ['home', 'books', 'clothes'], [329, 189, 329]],\n",
    "         ['34278', ['james', 'lee'], 28, ['beauty', 'clothes', 'electronics'], [189, 299, 579]]]\n",
    "\n",
    "revenue = 0\n",
    "\n",
    "for user in users:\n",
    "    spendings_list = user[4]\n",
    "    total_spendings = sum(spendings_list)\n",
    "\n",
    "    revenue+=total_spendings\n",
    "\n",
    "print(revenue)\n",
    "# out 9189"
   ]
  },
  {
   "cell_type": "markdown",
   "metadata": {},
   "source": [
    "****Pista****\n",
    "\n",
    "Para extraer la lista de gastos realizados por un usuario, utiliza la indexación y asígnala a la variable spendings_list. Luego, utiliza la función integrada para calcular la suma de spending_list. Por último, actualiza el valor de revenue añadiéndole total_spendings mediante la asignación aumentada.\n",
    "\n",
    "Explicación del código corregido\n",
    "\n",
    "revenue = 0: Inicializa la variable revenue para almacenar el total de ingresos.\n",
    "\n",
    "for user in users:: Itera sobre cada elemento en la lista users.\n",
    "\n",
    "spendings_list = user[4]: Extrae la lista de gastos del usuario (la quinta posición en cada sublista).\n",
    "\n",
    "total_spendings = sum(spendings_list): Calcula la suma de los gastos de ese usuario.\n",
    "\n",
    "revenue += total_spendings: Suma el total de los gastos del usuario a revenue.\n",
    "\n",
    "print(revenue): Muestra el total de ingresos acumulados\n",
    "\n",
    "\n",
    "Paso 6\n",
    "\n",
    "La empresa quiere ofrecer descuentos a sus clientes leales. Los clientes que realizan compras por un importe total mayor a $1500 se consideran leales y recibirán un descuento.\n",
    "\n",
    "Nuestro objetivo es crear un bucle while que compruebe el importe total gastado y se detenga al alcanzarlo. Para simular nuevas compras, la variable new_purchase genera un número entre 30 y 80 en cada iteración del bucle. Esto representa la cantidad de dinero gastada en una nueva compra y es lo que debes agregar al total.\n",
    "\n",
    "Una vez que se alcance el importe objetivo y se termine el bucle while, se mostrará la cantidad final."
   ]
  },
  {
   "cell_type": "code",
   "execution_count": 6,
   "metadata": {},
   "outputs": [
    {
     "name": "stdout",
     "output_type": "stream",
     "text": [
      "1523\n"
     ]
    }
   ],
   "source": [
    "from random import randint\n",
    "\n",
    "total_amount_spent = 1280\n",
    "target_amount = 1500\n",
    "\n",
    "while total_amount_spent <= target_amount:# escribe tu código aquí\n",
    "\tnew_purchase = randint(30, 80) # generamos un número aleatorio de 30 a 80\n",
    "\ttotal_amount_spent += new_purchase\n",
    "\t# escribe tu código aquí\n",
    "\n",
    "print(total_amount_spent)\n",
    "\n",
    "#out is random 1551"
   ]
  },
  {
   "cell_type": "markdown",
   "metadata": {},
   "source": [
    "****Pista****\n",
    "\n",
    "En el bucle while, debes comparar total_amount_spent (importe total gastado) con target_amount (importe objetivo). Durante cada iteración del bucle, actualiza la variable total_amount_spent agregándole el valor new_purchase.\n",
    "\n",
    "Análisis de la lógica del código\n",
    "\n",
    "Objetivo: Crear un bucle while que sume el importe de nuevas compras a total_amount_spent hasta que supere el target_amount de 1500.\n",
    "\n",
    "Inicialización de variables:\n",
    "total_amount_spent comienza en 1280, lo cual es el total actual de compras.\n",
    "\n",
    "target_amount es 1500, el objetivo a alcanzar.\n",
    "\n",
    "Bucle while:\n",
    "La condición del bucle es total_amount_spent <= target_amount, lo que significa que el bucle seguirá ejecutándose mientras el total de compras no haya superado el objetivo.\n",
    "\n",
    "Generación de nuevas compras:\n",
    "new_purchase es un número aleatorio entre 30 y 80, generado con randint(30, 80), para simular una nueva compra.\n",
    "\n",
    "Actualización del total:\n",
    "La línea total_amount_spent += new_purchase suma el importe de new_purchase al total de compras.\n",
    "\n",
    "Salida:\n",
    "Una vez que se rompe la condición del bucle, se imprime el total_amount_spent.\n",
    "\n",
    "\n",
    "Paso 7\n",
    "\n",
    "Recorre la lista de usuarios que te hemos proporcionado y muestra los nombres de los clientes menores de 30 años."
   ]
  },
  {
   "cell_type": "code",
   "execution_count": 7,
   "metadata": {},
   "outputs": [
    {
     "name": "stdout",
     "output_type": "stream",
     "text": [
      "kate\n",
      "samantha\n",
      "emily\n",
      "jose\n",
      "james\n"
     ]
    }
   ],
   "source": [
    "users = [['32415', ['mike', 'reed'], 32, ['electronics', 'sport', 'books'], [894, 213, 173]],\n",
    "         ['31980', ['kate', 'morgan'], 24, ['clothes', 'books'], [439, 390]],\n",
    "         ['32156', ['john', 'doe'], 37, ['electronics', 'home', 'food'], [459, 120, 99]],\n",
    "         ['32761', ['samantha', 'smith'], 29, ['clothes', 'electronics', 'beauty'], [299, 679, 85]],\n",
    "         ['32984', ['david', 'white'], 41, ['books', 'home', 'sport'], [234, 329, 243]],\n",
    "         ['33001', ['emily', 'brown'], 26, ['beauty', 'home', 'food'], [213, 659, 79]],\n",
    "         ['33767', ['maria', 'garcia'], 33, ['clothes', 'food', 'beauty'], [499, 189, 63]],\n",
    "         ['33912', ['jose', 'martinez'], 22, ['sport', 'electronics', 'home'], [259, 549, 109]],\n",
    "         ['34009', ['lisa', 'wilson'], 35, ['home', 'books', 'clothes'], [329, 189, 329]],\n",
    "         ['34278', ['james', 'lee'], 28, ['beauty', 'clothes', 'electronics'], [189, 299, 579]]]\n",
    "\n",
    "\n",
    "for user in users:\n",
    "    if user[2] < 30:\n",
    "        print(user[1][0])# escribe tu código aquí"
   ]
  },
  {
   "cell_type": "markdown",
   "metadata": {},
   "source": [
    "Explicación y análisis:\n",
    "\n",
    "Este código es correcto. \n",
    "\n",
    "for Recorre cada user en la lista users.\n",
    "\n",
    "if user[2] < 30 verifica si la edad del usuario es menor de 30.\n",
    "\n",
    "print(user[1][0]) imprime el primer elemento de la lista user[1], que es el nombre (sin el apellido)."
   ]
  },
  {
   "cell_type": "markdown",
   "metadata": {},
   "source": [
    "****Pista****\n",
    "\n",
    "Utiliza el bucle for para iterar sobre cada fila de la tabla. Utiliza if dentro de un bucle for para imprimir el nombre de usuario o usuaria. El campo age tiene el índice 2\n",
    "\n",
    "Paso 8\n",
    "\n",
    "Mostremos en pantalla los nombres de los usuarios menores de 30 años que acumulan un gasto total superior a 1000 dólares"
   ]
  },
  {
   "cell_type": "code",
   "execution_count": 8,
   "metadata": {},
   "outputs": [
    {
     "name": "stdout",
     "output_type": "stream",
     "text": [
      "samantha\n",
      "james\n"
     ]
    }
   ],
   "source": [
    "users = [['32415', ['mike', 'reed'], 32, ['electronics', 'sport', 'books'], [894, 213, 173]],\n",
    "         ['31980', ['kate', 'morgan'], 24, ['clothes', 'books'], [439, 390]],\n",
    "         ['32156', ['john', 'doe'], 37, ['electronics', 'home', 'food'], [459, 120, 99]],\n",
    "         ['32761', ['samantha', 'smith'], 29, ['clothes', 'electronics', 'beauty'], [299, 679, 85]],\n",
    "         ['32984', ['david', 'white'], 41, ['books', 'home', 'sport'], [234, 329, 243]],\n",
    "         ['33001', ['emily', 'brown'], 26, ['beauty', 'home', 'food'], [213, 659, 79]],\n",
    "         ['33767', ['maria', 'garcia'], 33, ['clothes', 'food', 'beauty'], [499, 189, 63]],\n",
    "         ['33912', ['jose', 'martinez'], 22, ['sport', 'electronics', 'home'], [259, 549, 109]],\n",
    "         ['34009', ['lisa', 'wilson'], 35, ['home', 'books', 'clothes'], [329, 189, 329]],\n",
    "         ['34278', ['james', 'lee'], 28, ['beauty', 'clothes', 'electronics'], [189, 299, 579]]]\n",
    "\n",
    "for user in users:\n",
    "    #verify is user is less than 30 and amount spent is more than 1000\n",
    "    if user[2] < 30 and sum(user[4]) > 1000:\n",
    "        print(user[1][0])# prints user name only\n",
    "\n",
    "#codigo opcional\n",
    "# for user in users:\n",
    "    # Verificamos si la edad es menor de 30 y si el gasto total supera los 1000 dólares\n",
    "    # total_spent = sum(user[4])\n",
    "    #if user[2] < 30 and total_spent > 1000:\n",
    "        # Imprimimos el nombre completo del usuario\n",
    "        #print(' '.join(user[1]))\n",
    "#samantha\n",
    "#james"
   ]
  },
  {
   "cell_type": "markdown",
   "metadata": {},
   "source": [
    "****Pista****\n",
    "\n",
    "Utiliza el bucle for para iterar sobre cada fila de la tabla. Utiliza if dentro de un bucle for para imprimir el nombre de usuario o usuaria. El campo age tiene el índice 2. Utiliza la función sum para sumar los gastos y luego comprueba si es mayor de 1000 dólares.\n",
    "\n",
    "Tu código es correcto y cumple con el objetivo de:\n",
    "\n",
    "Recorrer cada usuario en la lista users usando un bucle for.\n",
    "\n",
    "Verificar si la edad del usuario (user[2]) es menor de 30.\n",
    "\n",
    "Calcular la suma de los gastos (sum(user[4])) y verificar si es mayor a 1000.\n",
    "\n",
    "Imprimir el primer nombre de los usuarios que cumplen ambas condiciones.\n",
    "\n",
    "Paso 9\n",
    "\n",
    "Ahora vamos a mostrar el nombre y la edad de todos los usuarios y todas las usuarias que han comprado ropa (\"clothes\"). Imprime el nombre y la edad en la misma declaración print."
   ]
  },
  {
   "cell_type": "code",
   "execution_count": 9,
   "metadata": {},
   "outputs": [
    {
     "name": "stdout",
     "output_type": "stream",
     "text": [
      "kate 24\n",
      "samantha 29\n",
      "maria 33\n",
      "lisa 35\n",
      "james 28\n"
     ]
    }
   ],
   "source": [
    "users = [['32415', ['mike', 'reed'], 32, ['electronics', 'sport', 'books'], [894, 213, 173]],\n",
    "         ['31980', ['kate', 'morgan'], 24, ['clothes', 'books'], [439, 390]],\n",
    "         ['32156', ['john', 'doe'], 37, ['electronics', 'home', 'food'], [459, 120, 99]],\n",
    "         ['32761', ['samantha', 'smith'], 29, ['clothes', 'electronics', 'beauty'], [299, 679, 85]],\n",
    "         ['32984', ['david', 'white'], 41, ['books', 'home', 'sport'], [234, 329, 243]],\n",
    "         ['33001', ['emily', 'brown'], 26, ['beauty', 'home', 'food'], [213, 659, 79]],\n",
    "         ['33767', ['maria', 'garcia'], 33, ['clothes', 'food', 'beauty'], [499, 189, 63]],\n",
    "         ['33912', ['jose', 'martinez'], 22, ['sport', 'electronics', 'home'], [259, 549, 109]],\n",
    "         ['34009', ['lisa', 'wilson'], 35, ['home', 'books', 'clothes'], [329, 189, 329]],\n",
    "         ['34278', ['james', 'lee'], 28, ['beauty', 'clothes', 'electronics'], [189, 299, 579]]]\n",
    "\n",
    "for user in users:\n",
    "    if 'clothes' in user[3]:\n",
    "        print(user[1][0], user[2])# escribe tu código aquí"
   ]
  },
  {
   "cell_type": "markdown",
   "metadata": {},
   "source": [
    "kate 24\n",
    "samantha 29\n",
    "maria 33\n",
    "lisa 35\n",
    "james 28\n",
    "****Pista****\n",
    "\n",
    "Utiliza el bucle for para iterar sobre cada fila de la tabla. A continuación, utiliza otro bucle para comprobar si este usuario ha comprado ropa (\"clothes\") y, en caso afirmativo, muestra el nombre y la edad dentro de la misma declaración print, separándolos por comas: print(firstname, age).\n",
    "\n",
    "Análisis del código\n",
    "\n",
    "Estructura del bucle: Usas un bucle for para recorrer cada usuario en la lista users, lo cual es correcto.\n",
    "\n",
    "Condición de búsqueda: La condición if 'clothes' in user[3] verifica si el elemento \"clothes\" está en la lista de compras (user[3]). Esto es adecuado para determinar si el usuario ha comprado ropa.\n",
    "\n",
    "Impresión de datos: Usas print(user[1][0], user[2]) para imprimir el nombre y la edad del usuario. Esto muestra solo el primer nombre del usuario y su edad, que es lo que se solicita.\n",
    "\n",
    "Paso 10\n",
    "\n",
    "La dirección requiere de una función que proporcione información sobre los clientes, incluyendo sus nombres, edades y gasto total, filtrada por categorías específicas. Con base en fragmentos de código anteriores, crearemos una función llamada get_client_by_cat con las siguientes especificaciones:\n",
    "\n",
    "Parámetros:\n",
    "\n",
    "-users: una lista con los datos de los usuarios.\n",
    "\n",
    "-id_index: el índice donde está almacenado el ID del cliente en la lista de usuarios.\n",
    "\n",
    "-name_index: el índice donde está almacenado el nombre del cliente en la lista de usuarios.\n",
    "\n",
    "-age_index: el índice donde la edad del cliente está almacenada en la lista de usuarios.\n",
    "\n",
    "-category_index: el índice donde las categorías de compras del cliente están listadas.\n",
    "\n",
    "-amounts_index: el índice donde las cantidades gastadas en cada categoría están almacenadas.\n",
    "\n",
    "-filter_category: un string que representa el nombre de la categoría para filtrar clientes.\n",
    "\n",
    "Salida:\n",
    "\n",
    "La función devuelve una lista de sublistas. Cada sublista contiene:\n",
    "\n",
    " El número ID del cliente.\n",
    " \n",
    " Una sublista con el nombre y apellido del cliente.\n",
    " \n",
    " La edad del cliente.\n",
    " \n",
    " Un entero que representa la cantidad total gastada por el cliente.\n",
    "\n",
    "Por ejemplo, si llamas a la función con los siguientes \n",
    "parámetros:\n",
    "\n",
    "get_client_by_cat([\n",
    "    ['32415', ['mike', 'reed'], 32, ['electronics', 'sport', 'books'], [894, 213, 173]]\n",
    "], 0, 1, 2, 3, 4, 'books')\n",
    "\n",
    "La salida será:\n",
    "\n",
    "[['32415', ['mike', 'reed'], 32, 1280]]\n",
    "Esta salida muestra que el cliente con el ID '32415', llamado Mike Reed, de 32 años, gastó un total de 1280 en la categoría 'books' y otras compras.\n",
    "\n",
    "Después de hacer tu función, llámala pasándole nuestra lista de usuarios, los índices adecuados y la categoría 'home' y muestra en pantalla la lista que resulta."
   ]
  },
  {
   "cell_type": "code",
   "execution_count": 10,
   "metadata": {},
   "outputs": [
    {
     "name": "stdout",
     "output_type": "stream",
     "text": [
      "[['32156', ['john', 'doe'], 37, 678], ['32984', ['david', 'white'], 41, 806], ['33001', ['emily', 'brown'], 26, 951], ['33912', ['jose', 'martinez'], 22, 917], ['34009', ['lisa', 'wilson'], 35, 847]]\n"
     ]
    }
   ],
   "source": [
    "def get_client_by_cat(users, id_index, name_index, age_index, cat_index, amounts_index, filter_cat):\n",
    "    result = [] #list to save final return\n",
    "    #loop ea user in users\n",
    "    for user in users:\n",
    "        #verifies if param filter_cat exist in user category index\n",
    "        if filter_cat in user[cat_index]:\n",
    "\n",
    "            #add up all the expences in user[amount_index]\n",
    "            total_amount_spent = sum(user[amounts_index])\n",
    "\n",
    "            #sublist created with needed information for function\n",
    "            user_info = [\n",
    "                user[id_index],\n",
    "                user[name_index],\n",
    "                user[age_index],\n",
    "                total_amount_spent\n",
    "            ]\n",
    "            #update result list by adding the user_info list\n",
    "            result.append(user_info)\n",
    "\n",
    "    return result\n",
    "\n",
    "# La lista de usuarios\n",
    "users = [\n",
    "    ['32415', ['mike', 'reed'], 32, ['electronics', 'sport', 'books'], [894, 213, 173]],\n",
    "    ['31980', ['kate', 'morgan'], 24, ['clothes', 'books'], [439, 390]],\n",
    "    ['32156', ['john', 'doe'], 37, ['electronics', 'home', 'food'], [459, 120, 99]],\n",
    "    ['32761', ['samantha', 'smith'], 29, ['clothes', 'electronics', 'beauty'], [299, 679, 85]],\n",
    "    ['32984', ['david', 'white'], 41, ['books', 'home', 'sport'], [234, 329, 243]],\n",
    "    ['33001', ['emily', 'brown'], 26, ['beauty', 'home', 'food'], [213, 659, 79]],\n",
    "    ['33767', ['maria', 'garcia'], 33, ['clothes', 'food', 'beauty'], [499, 189, 63]],\n",
    "    ['33912', ['jose', 'martinez'], 22, ['sport', 'electronics', 'home'], [259, 549, 109]],\n",
    "    ['34009', ['lisa', 'wilson'], 35, ['home', 'books', 'clothes'], [329, 189, 329]],\n",
    "    ['34278', ['james', 'lee'], 28, ['beauty', 'clothes', 'electronics'], [189, 299, 579]]\n",
    "]\n",
    "\n",
    "# Llama a la función con la categoría 'home'\n",
    "#assign the function to the result list and pass the values required\n",
    "result = get_client_by_cat(users,0 ,1, 2, 3, 4, 'home') # escribe tu código aquí\n",
    "\n",
    "# Muestra en pantalla la lista que resulta\n",
    "print(result)\n"
   ]
  },
  {
   "cell_type": "markdown",
   "metadata": {},
   "source": [
    "[['32156', ['john', 'doe'], 37, 678], ['32984', ['david', 'white'], 41, 806], ['33001', ['emily', 'brown'], 26, 951], ['33912', ['jose', 'martinez'], 22, 917], ['34009', ['lisa', 'wilson'], 35, 847]]\n",
    "\n",
    "\n",
    "****Pista****\n",
    "\n",
    "Utiliza un bucle for para iterar sobre cada usuario en la lista. Para cada usuario, verifica que la categoría deseada (\"filter_category\") esté en su lista de categorías de compras. Si se encuentra la categoría, calcula la cantidad total gastada sumando las cantidades en la lista correspondiente. Después, crea una sublista con el ID, nombre (como una lista de nombres y apellidos), edad y cantidad total gastada del usuario. Añade esta sublista a la lista final que resulta."
   ]
  }
 ],
 "metadata": {
  "kernelspec": {
   "display_name": "Python 3",
   "language": "python",
   "name": "python3"
  },
  "language_info": {
   "codemirror_mode": {
    "name": "ipython",
    "version": 3
   },
   "file_extension": ".py",
   "mimetype": "text/x-python",
   "name": "python",
   "nbconvert_exporter": "python",
   "pygments_lexer": "ipython3",
   "version": "3.9.1"
  }
 },
 "nbformat": 4,
 "nbformat_minor": 2
}
